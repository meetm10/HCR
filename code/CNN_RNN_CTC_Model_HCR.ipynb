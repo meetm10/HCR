{
 "cells": [
  {
   "cell_type": "code",
   "execution_count": 1,
   "metadata": {},
   "outputs": [],
   "source": [
    "from helper import create_batches\n",
    "import tensorflow as tf\n",
    "import numpy as np\n",
    "import shelve\n",
    "import joblib\n",
    "import random\n",
    "import time\n",
    "\n",
    "#Cuz the file is inside 'code' directory\n",
    "mount_point = \"../shelved_data/\"\n",
    "\n",
    "with shelve.open(mount_point+'IAM_Data') as shelf:\n",
    "    vocabulary = shelf['chars']\n",
    "    list_of_images = shelf['list_of_images']\n",
    "    image_labels = shelf['image_labels']\n",
    "    \n",
    "image_arrays = joblib.load(mount_point+'image_arrays')\n",
    "\n",
    "#List_images ko sort karo\n",
    "list_of_images.sort()\n",
    "\n",
    "#Convert vocabulary to list\n",
    "vocabulary = list(vocabulary)\n",
    "#Sort so as to have the same ordering every time..\n",
    "vocabulary.sort()\n",
    "vocabulary.append(\"<Blank>\")"
   ]
  },
  {
   "cell_type": "code",
   "execution_count": 2,
   "metadata": {
    "collapsed": true
   },
   "outputs": [],
   "source": [
    "#Model parameters\n",
    "img_height = 104\n",
    "img_width = 688\n",
    "vocab_size = len(vocabulary)\n",
    "\n",
    "#Common Hyper Parameters\n",
    "alpha = 0.005\n",
    "epochs = 200\n",
    "batch_size = 32\n",
    "\n",
    "#Conv_net Params\n",
    "filter_size = 5\n",
    "#Number of filters in each convolution layer\n",
    "num_conv1,num_conv2,num_conv3 = (16, 32, 64)\n",
    "\n",
    "#LSTM Params\n",
    "rnn_hidden_units = 256\n",
    "\n",
    "#FC_Params\n",
    "fc_input_units,fc_hidden_units,fc_output_units = (2*rnn_hidden_units, 128, vocab_size)"
   ]
  },
  {
   "cell_type": "code",
   "execution_count": 3,
   "metadata": {},
   "outputs": [
    {
     "name": "stdout",
     "output_type": "stream",
     "text": [
      "Tensor(\"concat:0\", shape=(?, 1118, 512), dtype=float32)\n"
     ]
    }
   ],
   "source": [
    "# with tf.device('/gpu:0'):\n",
    "\n",
    "#Weights Initializer\n",
    "fc_initializer = tf.contrib.layers.xavier_initializer()\n",
    "conv_initializer = tf.contrib.layers.xavier_initializer_conv2d()\n",
    "\n",
    "#Weights for convolution layer\n",
    "# -> filter_size = 5 so filter = (5 x 5)\n",
    "#-> input_channels or (channels_in_image) = 1 \n",
    "#-> output_channels or (num_of_filters) = num_conv1\n",
    "\n",
    "wconv1_shape = [filter_size,filter_size,1,num_conv1]\n",
    "wconv2_shape = [filter_size,filter_size,num_conv1,num_conv2]\n",
    "wconv3_shape = [filter_size,filter_size,num_conv2,num_conv3]\n",
    "\n",
    "wfc1_shape = [fc_input_units, fc_hidden_units]\n",
    "wfc2_shape = [fc_hidden_units, fc_output_units]\n",
    "\n",
    "\n",
    "#Biases for conv_layer (single value, thus shape is empty tensor [])\n",
    "bconv_shape = []\n",
    "\n",
    "#Biases for fc layer\n",
    "bfc1_shape = [fc_hidden_units]\n",
    "bfc2_shape = [fc_output_units]\n",
    "\n",
    "#Initialize weights \n",
    "wconv1 = tf.Variable(conv_initializer(wconv1_shape))\n",
    "wconv2 = tf.Variable(conv_initializer(wconv2_shape))\n",
    "wconv3 = tf.Variable(conv_initializer(wconv3_shape))\n",
    "\n",
    "wfc1 = tf.Variable(fc_initializer(wfc1_shape))\n",
    "wfc2 = tf.Variable(fc_initializer(wfc2_shape))\n",
    "\n",
    "\n",
    "#Intialize biases\n",
    "bconv1 = tf.Variable(tf.zeros(bconv_shape))\n",
    "bconv2 = tf.Variable(tf.zeros(bconv_shape))\n",
    "bconv3 = tf.Variable(tf.zeros(bconv_shape))\n",
    "\n",
    "bfc1 = tf.Variable(tf.zeros(bfc1_shape))\n",
    "bfc2 = tf.Variable(tf.zeros(bfc2_shape))\n",
    "\n",
    "\n",
    "#Model\n",
    "#----------------------------------------------------------------------------#\n",
    "\n",
    "#Input Image\n",
    "inputs = tf.placeholder(tf.float32,shape=[None,img_height,img_width])\n",
    "\n",
    "X = tf.reshape(inputs,(-1,img_height,img_width,1))\n",
    "\n",
    "#-------------------Convolution-----------------------#\n",
    "#1st Convolutional Layer\n",
    "conv1 = tf.nn.relu(tf.nn.conv2d(input=X,filter=wconv1,padding='SAME',strides=[1,1,1,1]) + bconv1)\n",
    "\n",
    "#1st Pooling layer\n",
    "pool1 = tf.nn.max_pool(conv1,ksize=[1,2,2,1],strides=[1,2,2,1],padding='SAME')\n",
    "\n",
    "#2nd Convolutional Layer\n",
    "conv2 = tf.nn.relu(tf.nn.conv2d(input=pool1,filter=wconv2,padding='SAME',strides=[1,1,1,1]) + bconv2)\n",
    "\n",
    "#2nd Pooling Layer\n",
    "pool2 = tf.nn.max_pool(conv2,ksize=[1,2,2,1],strides=[1,2,2,1],padding='SAME')\n",
    "\n",
    "#3rd Convolutional Layer\n",
    "conv3 = tf.nn.relu(tf.nn.conv2d(input=pool2,filter=wconv3,padding='SAME',strides=[1,1,1,1]) + bconv3)\n",
    "\n",
    "#3rd Pooling Layer\n",
    "pool3 = tf.nn.max_pool(conv3,ksize=[1,2,2,1],strides=[1,2,2,1],padding='SAME')\n",
    "\n",
    "conv_out_height, conv_out_width = (int(img_height/(2**3)),int(img_width/(2**3)))\n",
    "\n",
    "#----------------LSTM--------------------------#\n",
    "#Treat a single pixel from each filter or feature map as an individual feature\n",
    "#So number of features  = num_conv3 filters or feature maps\n",
    "#length_of_sequence = width * height of the output from conv3 \n",
    "lstm_input = tf.reshape(pool3,(-1,conv_out_height*conv_out_width,num_conv3))\n",
    "\n",
    "seq_len = conv_out_height * conv_out_width\n",
    "\n",
    "targets = tf.sparse_placeholder(tf.int32)\n",
    "\n",
    "time_steps = np.array([seq_len]*batch_size)\n",
    "\n",
    "# RNN Cell forward\n",
    "cell_fw = tf.contrib.rnn.BasicLSTMCell(rnn_hidden_units)\n",
    "\n",
    "# RNN Cell backward\n",
    "cell_bw = tf.contrib.rnn.BasicLSTMCell(rnn_hidden_units)\n",
    "\n",
    "(outputs_fw,outputs_bw),_ = tf.nn.bidirectional_dynamic_rnn(cell_fw,cell_bw,lstm_input,dtype=tf.float32)\n",
    "\n",
    "#Concatenate the output from both cells (forward and backward)\n",
    "outputs = tf.concat([outputs_fw,outputs_bw], 2)\n",
    "\n",
    "print(outputs)\n",
    "\n",
    "# shape = tf.shape(X)\n",
    "# batch_s , max_time_steps = shape[0], shape[1]\n",
    "\n",
    "# # Reshaping to apply the same weights over the timesteps\n",
    "# outputs = tf.reshape(outputs, [-1, hidden_units])\n",
    "\n",
    "# # Truncated normal with mean 0 and stdev=0.1\n",
    "# # Tip: Try another initialization\n",
    "# # see https://www.tensorflow.org/versions/r0.9/api_docs/python/contrib.layers.html#initializers\n",
    "# W = tf.Variable(tf.truncated_normal([hidden_units,\n",
    "#                                      vocab_size],\n",
    "#                                     stddev=0.1))\n",
    "# # Zero initialization\n",
    "# # Tip: Is tf.zeros_initializer the same?\n",
    "# b = tf.Variable(tf.constant(0., shape=[vocab_size]))\n",
    "\n",
    "# # Doing the affine projection\n",
    "# logits = tf.matmul(outputs, W) + b\n",
    "\n",
    "# # Reshaping back to the original shape\n",
    "# logits = tf.reshape(logits, [batch_s, -1, vocab_size])\n",
    "\n",
    "# # Time major\n",
    "# logits = tf.transpose(outputs, (1, 0, 2))\n",
    "\n",
    "# #Calculate loss\n",
    "# loss = tf.nn.ctc_loss(targets, logits, time_steps)\n",
    "# cost = tf.reduce_mean(loss)\n",
    "\n",
    "# #Optimize\n",
    "# optimizer = tf.train.AdamOptimizer(learning_rate=alpha)\n",
    "# train = optimizer.minimize(loss)\n",
    "\n",
    "# # CTC decoder.\n",
    "\n",
    "# #decoded, log_prob = tf.nn.ctc_greedy_decoder(logits, seq_len)\n",
    "# decoded, log_prob = tf.nn.ctc_greedy_decoder(logits, time_steps)\n",
    "\n",
    "# label_error_rate = tf.reduce_mean(tf.edit_distance(tf.cast(decoded[0], tf.int32),\n",
    "#                                                    targets))\n"
   ]
  },
  {
   "cell_type": "markdown",
   "metadata": {},
   "source": [
    "## Save my MoDel"
   ]
  },
  {
   "cell_type": "code",
   "execution_count": 4,
   "metadata": {
    "collapsed": true
   },
   "outputs": [],
   "source": [
    "losses = []\n",
    "saver = tf.train.Saver()\n",
    "\n",
    "training_list = list_of_images[:256]\n",
    "random.seed(100)\n",
    "random.shuffle(training_list)"
   ]
  },
  {
   "cell_type": "code",
   "execution_count": 5,
   "metadata": {},
   "outputs": [
    {
     "name": "stdout",
     "output_type": "stream",
     "text": [
      "8 8\n"
     ]
    }
   ],
   "source": [
    "batches_x,batches_y = create_batches(batch_size,training_list,image_arrays,image_labels,vocabulary)\n",
    "print(len(batches_x),len(batches_y))"
   ]
  },
  {
   "cell_type": "code",
   "execution_count": 6,
   "metadata": {},
   "outputs": [],
   "source": [
    "with tf.Session() as sess:\n",
    "    sess.run(tf.global_variables_initializer())\n",
    "    feed = {inputs:batches_x[0].transpose([2,0,1]),targets:batches_y[0]}\n",
    "    true_outputs = sess.run(outputs,feed_dict = feed)"
   ]
  },
  {
   "cell_type": "code",
   "execution_count": 7,
   "metadata": {},
   "outputs": [
    {
     "data": {
      "text/plain": [
       "(32, 1118, 512)"
      ]
     },
     "execution_count": 7,
     "metadata": {},
     "output_type": "execute_result"
    }
   ],
   "source": [
    "true_outputs.shape"
   ]
  },
  {
   "cell_type": "code",
   "execution_count": 8,
   "metadata": {
    "collapsed": true
   },
   "outputs": [],
   "source": [
    "# with tf.Session(config=tf.ConfigProto(allow_soft_placement=True)) as sess:\n",
    "#     sess.run(tf.global_variables_initializer())\n",
    "    \n",
    "#     for e in range(epochs): \n",
    "#         start_time = time.time()\n",
    "#         total_cost,total_ler = 0.0,0.0\n",
    "        \n",
    "#         #Iterate through all images in a single epoch...\n",
    "#         for b in range(len(batches_x)):\n",
    "            \n",
    "#             #Before feeding x reshape it as (batch_size,width,height)\n",
    "#             feed = {inputs:batches_x[b].transpose([2,0,1]),targets:batches_y[b]}\n",
    "\n",
    "#             sess.run(train,feed_dict=feed)\n",
    "            \n",
    "#         if e % 1 == 0:\n",
    "#             cost_val,ler_val,d = sess.run([cost,label_error_rate,decoded], feed_dict=feed)\n",
    "#             total_cost+=cost_val\n",
    "#             total_ler+=ler_val\n",
    "            \n",
    "#             losses.append(total_cost)\n",
    "# #             if e % 1 == 0:\n",
    "# #                 outputs.append(d)\n",
    "                \n",
    "#         if e%10==0:\n",
    "#             saver.save(sess,'../model/Lines_RNN_'+str(e))\n",
    "\n",
    "#         end_time = time.time()       \n",
    "#         time_taken = end_time - start_time\n",
    "\n",
    "#         print(\"Epoch {}: cost = {} ler = {:.2f} - Time taken:{:.2f} sec\".format(e,total_cost,total_ler,time_taken))\n",
    "\n",
    "# # plt.plot(list(range(len(losses))),losses)\n",
    "# # plt.xlabel('Epochs')\n",
    "# # plt.ylabel('Loss')"
   ]
  },
  {
   "cell_type": "markdown",
   "metadata": {},
   "source": [
    "## Predict using Model"
   ]
  },
  {
   "cell_type": "code",
   "execution_count": 9,
   "metadata": {
    "collapsed": true
   },
   "outputs": [],
   "source": [
    "# with tf.Session() as sess:\n",
    "#     saver = tf.train.import_meta_graph('Basic_RNN_TF_API.ckpt.meta')\n",
    "#     saver.restore(sess, '../Lines_RNN.ckpt')\n",
    "\n",
    "#     X = sess.graph.get_tensor_by_name('Placeholder:0')\n",
    "    \n",
    "#     for _ in range(30): \n",
    "#         y_pred = sess.run('rnn/transpose:0', feed_dict={X: X_new})\n",
    "#         #print(y_pred)\n",
    "#         #print(y_pred.shape)\n",
    "#         content += interpret(y_pred,vocabulary)\n",
    "#         X_new = y_pred\n",
    "        \n",
    "# print(content)"
   ]
  },
  {
   "cell_type": "code",
   "execution_count": 10,
   "metadata": {
    "collapsed": true
   },
   "outputs": [],
   "source": [
    "# content = []\n",
    "# for k in range(0,5):\n",
    "#     val = outputs[k][0]\n",
    "#     content.append(''.join([vocabulary[x] for x in np.asarray(val[1])]))\n",
    "# print(\"\\n\".join(content))"
   ]
  }
 ],
 "metadata": {
  "kernelspec": {
   "display_name": "Python 3",
   "language": "python",
   "name": "python3"
  },
  "language_info": {
   "codemirror_mode": {
    "name": "ipython",
    "version": 3
   },
   "file_extension": ".py",
   "mimetype": "text/x-python",
   "name": "python",
   "nbconvert_exporter": "python",
   "pygments_lexer": "ipython3",
   "version": "3.6.2"
  }
 },
 "nbformat": 4,
 "nbformat_minor": 2
}
